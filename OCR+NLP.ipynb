{
  "nbformat": 4,
  "nbformat_minor": 0,
  "metadata": {
    "colab": {
      "provenance": [],
      "mount_file_id": "1QZsf4F0YxdEAG-rptzTCLGR7BYPPzYzy",
      "authorship_tag": "ABX9TyMbWj1invG8/qI9zDbQ5/GD",
      "include_colab_link": true
    },
    "kernelspec": {
      "name": "python3",
      "display_name": "Python 3"
    },
    "language_info": {
      "name": "python"
    },
    "widgets": {
      "application/vnd.jupyter.widget-state+json": {
        "49916659d7b34f389ba8bf4f893c01d0": {
          "model_module": "@jupyter-widgets/controls",
          "model_name": "HBoxModel",
          "model_module_version": "1.5.0",
          "state": {
            "_dom_classes": [],
            "_model_module": "@jupyter-widgets/controls",
            "_model_module_version": "1.5.0",
            "_model_name": "HBoxModel",
            "_view_count": null,
            "_view_module": "@jupyter-widgets/controls",
            "_view_module_version": "1.5.0",
            "_view_name": "HBoxView",
            "box_style": "",
            "children": [
              "IPY_MODEL_5287fd2c1d1c4acb9f81623b9ba0f626",
              "IPY_MODEL_44a8eaf1154d45feaeb2ac91efe5b10b",
              "IPY_MODEL_c6eaf8a56351417faee00fd0fc1d375d"
            ],
            "layout": "IPY_MODEL_e7627ff81f65431d8fab0d4a7d05bafa"
          }
        },
        "5287fd2c1d1c4acb9f81623b9ba0f626": {
          "model_module": "@jupyter-widgets/controls",
          "model_name": "HTMLModel",
          "model_module_version": "1.5.0",
          "state": {
            "_dom_classes": [],
            "_model_module": "@jupyter-widgets/controls",
            "_model_module_version": "1.5.0",
            "_model_name": "HTMLModel",
            "_view_count": null,
            "_view_module": "@jupyter-widgets/controls",
            "_view_module_version": "1.5.0",
            "_view_name": "HTMLView",
            "description": "",
            "description_tooltip": null,
            "layout": "IPY_MODEL_7d40140479ca4a939c108ddd19a123a3",
            "placeholder": "​",
            "style": "IPY_MODEL_8dfe2c9063d84d009fb9944b32d492e3",
            "value": "vocab.txt: 100%"
          }
        },
        "44a8eaf1154d45feaeb2ac91efe5b10b": {
          "model_module": "@jupyter-widgets/controls",
          "model_name": "FloatProgressModel",
          "model_module_version": "1.5.0",
          "state": {
            "_dom_classes": [],
            "_model_module": "@jupyter-widgets/controls",
            "_model_module_version": "1.5.0",
            "_model_name": "FloatProgressModel",
            "_view_count": null,
            "_view_module": "@jupyter-widgets/controls",
            "_view_module_version": "1.5.0",
            "_view_name": "ProgressView",
            "bar_style": "success",
            "description": "",
            "description_tooltip": null,
            "layout": "IPY_MODEL_f760213ba85748889f15669bec5803e7",
            "max": 1198122,
            "min": 0,
            "orientation": "horizontal",
            "style": "IPY_MODEL_dcbb5fd86e7944d0bab6e812756ca85d",
            "value": 1198122
          }
        },
        "c6eaf8a56351417faee00fd0fc1d375d": {
          "model_module": "@jupyter-widgets/controls",
          "model_name": "HTMLModel",
          "model_module_version": "1.5.0",
          "state": {
            "_dom_classes": [],
            "_model_module": "@jupyter-widgets/controls",
            "_model_module_version": "1.5.0",
            "_model_name": "HTMLModel",
            "_view_count": null,
            "_view_module": "@jupyter-widgets/controls",
            "_view_module_version": "1.5.0",
            "_view_name": "HTMLView",
            "description": "",
            "description_tooltip": null,
            "layout": "IPY_MODEL_6f5b7106526547aabc6d5f2c4772bb1a",
            "placeholder": "​",
            "style": "IPY_MODEL_20b0f3f489ae4813ac04b90047d96b75",
            "value": " 1.20M/1.20M [00:00&lt;00:00, 3.70MB/s]"
          }
        },
        "e7627ff81f65431d8fab0d4a7d05bafa": {
          "model_module": "@jupyter-widgets/base",
          "model_name": "LayoutModel",
          "model_module_version": "1.2.0",
          "state": {
            "_model_module": "@jupyter-widgets/base",
            "_model_module_version": "1.2.0",
            "_model_name": "LayoutModel",
            "_view_count": null,
            "_view_module": "@jupyter-widgets/base",
            "_view_module_version": "1.2.0",
            "_view_name": "LayoutView",
            "align_content": null,
            "align_items": null,
            "align_self": null,
            "border": null,
            "bottom": null,
            "display": null,
            "flex": null,
            "flex_flow": null,
            "grid_area": null,
            "grid_auto_columns": null,
            "grid_auto_flow": null,
            "grid_auto_rows": null,
            "grid_column": null,
            "grid_gap": null,
            "grid_row": null,
            "grid_template_areas": null,
            "grid_template_columns": null,
            "grid_template_rows": null,
            "height": null,
            "justify_content": null,
            "justify_items": null,
            "left": null,
            "margin": null,
            "max_height": null,
            "max_width": null,
            "min_height": null,
            "min_width": null,
            "object_fit": null,
            "object_position": null,
            "order": null,
            "overflow": null,
            "overflow_x": null,
            "overflow_y": null,
            "padding": null,
            "right": null,
            "top": null,
            "visibility": null,
            "width": null
          }
        },
        "7d40140479ca4a939c108ddd19a123a3": {
          "model_module": "@jupyter-widgets/base",
          "model_name": "LayoutModel",
          "model_module_version": "1.2.0",
          "state": {
            "_model_module": "@jupyter-widgets/base",
            "_model_module_version": "1.2.0",
            "_model_name": "LayoutModel",
            "_view_count": null,
            "_view_module": "@jupyter-widgets/base",
            "_view_module_version": "1.2.0",
            "_view_name": "LayoutView",
            "align_content": null,
            "align_items": null,
            "align_self": null,
            "border": null,
            "bottom": null,
            "display": null,
            "flex": null,
            "flex_flow": null,
            "grid_area": null,
            "grid_auto_columns": null,
            "grid_auto_flow": null,
            "grid_auto_rows": null,
            "grid_column": null,
            "grid_gap": null,
            "grid_row": null,
            "grid_template_areas": null,
            "grid_template_columns": null,
            "grid_template_rows": null,
            "height": null,
            "justify_content": null,
            "justify_items": null,
            "left": null,
            "margin": null,
            "max_height": null,
            "max_width": null,
            "min_height": null,
            "min_width": null,
            "object_fit": null,
            "object_position": null,
            "order": null,
            "overflow": null,
            "overflow_x": null,
            "overflow_y": null,
            "padding": null,
            "right": null,
            "top": null,
            "visibility": null,
            "width": null
          }
        },
        "8dfe2c9063d84d009fb9944b32d492e3": {
          "model_module": "@jupyter-widgets/controls",
          "model_name": "DescriptionStyleModel",
          "model_module_version": "1.5.0",
          "state": {
            "_model_module": "@jupyter-widgets/controls",
            "_model_module_version": "1.5.0",
            "_model_name": "DescriptionStyleModel",
            "_view_count": null,
            "_view_module": "@jupyter-widgets/base",
            "_view_module_version": "1.2.0",
            "_view_name": "StyleView",
            "description_width": ""
          }
        },
        "f760213ba85748889f15669bec5803e7": {
          "model_module": "@jupyter-widgets/base",
          "model_name": "LayoutModel",
          "model_module_version": "1.2.0",
          "state": {
            "_model_module": "@jupyter-widgets/base",
            "_model_module_version": "1.2.0",
            "_model_name": "LayoutModel",
            "_view_count": null,
            "_view_module": "@jupyter-widgets/base",
            "_view_module_version": "1.2.0",
            "_view_name": "LayoutView",
            "align_content": null,
            "align_items": null,
            "align_self": null,
            "border": null,
            "bottom": null,
            "display": null,
            "flex": null,
            "flex_flow": null,
            "grid_area": null,
            "grid_auto_columns": null,
            "grid_auto_flow": null,
            "grid_auto_rows": null,
            "grid_column": null,
            "grid_gap": null,
            "grid_row": null,
            "grid_template_areas": null,
            "grid_template_columns": null,
            "grid_template_rows": null,
            "height": null,
            "justify_content": null,
            "justify_items": null,
            "left": null,
            "margin": null,
            "max_height": null,
            "max_width": null,
            "min_height": null,
            "min_width": null,
            "object_fit": null,
            "object_position": null,
            "order": null,
            "overflow": null,
            "overflow_x": null,
            "overflow_y": null,
            "padding": null,
            "right": null,
            "top": null,
            "visibility": null,
            "width": null
          }
        },
        "dcbb5fd86e7944d0bab6e812756ca85d": {
          "model_module": "@jupyter-widgets/controls",
          "model_name": "ProgressStyleModel",
          "model_module_version": "1.5.0",
          "state": {
            "_model_module": "@jupyter-widgets/controls",
            "_model_module_version": "1.5.0",
            "_model_name": "ProgressStyleModel",
            "_view_count": null,
            "_view_module": "@jupyter-widgets/base",
            "_view_module_version": "1.2.0",
            "_view_name": "StyleView",
            "bar_color": null,
            "description_width": ""
          }
        },
        "6f5b7106526547aabc6d5f2c4772bb1a": {
          "model_module": "@jupyter-widgets/base",
          "model_name": "LayoutModel",
          "model_module_version": "1.2.0",
          "state": {
            "_model_module": "@jupyter-widgets/base",
            "_model_module_version": "1.2.0",
            "_model_name": "LayoutModel",
            "_view_count": null,
            "_view_module": "@jupyter-widgets/base",
            "_view_module_version": "1.2.0",
            "_view_name": "LayoutView",
            "align_content": null,
            "align_items": null,
            "align_self": null,
            "border": null,
            "bottom": null,
            "display": null,
            "flex": null,
            "flex_flow": null,
            "grid_area": null,
            "grid_auto_columns": null,
            "grid_auto_flow": null,
            "grid_auto_rows": null,
            "grid_column": null,
            "grid_gap": null,
            "grid_row": null,
            "grid_template_areas": null,
            "grid_template_columns": null,
            "grid_template_rows": null,
            "height": null,
            "justify_content": null,
            "justify_items": null,
            "left": null,
            "margin": null,
            "max_height": null,
            "max_width": null,
            "min_height": null,
            "min_width": null,
            "object_fit": null,
            "object_position": null,
            "order": null,
            "overflow": null,
            "overflow_x": null,
            "overflow_y": null,
            "padding": null,
            "right": null,
            "top": null,
            "visibility": null,
            "width": null
          }
        },
        "20b0f3f489ae4813ac04b90047d96b75": {
          "model_module": "@jupyter-widgets/controls",
          "model_name": "DescriptionStyleModel",
          "model_module_version": "1.5.0",
          "state": {
            "_model_module": "@jupyter-widgets/controls",
            "_model_module_version": "1.5.0",
            "_model_name": "DescriptionStyleModel",
            "_view_count": null,
            "_view_module": "@jupyter-widgets/base",
            "_view_module_version": "1.2.0",
            "_view_name": "StyleView",
            "description_width": ""
          }
        },
        "d9153ba842e744bbbb5cf880e1f0c9e4": {
          "model_module": "@jupyter-widgets/controls",
          "model_name": "HBoxModel",
          "model_module_version": "1.5.0",
          "state": {
            "_dom_classes": [],
            "_model_module": "@jupyter-widgets/controls",
            "_model_module_version": "1.5.0",
            "_model_name": "HBoxModel",
            "_view_count": null,
            "_view_module": "@jupyter-widgets/controls",
            "_view_module_version": "1.5.0",
            "_view_name": "HBoxView",
            "box_style": "",
            "children": [
              "IPY_MODEL_869e80b82bb947b4886a8079b872494a",
              "IPY_MODEL_e3f52df85392404ab188c42d0479a3ea",
              "IPY_MODEL_53e26c3bc5aa403b84575070148d9024"
            ],
            "layout": "IPY_MODEL_d230c74f0e034c4dafe3cd57cd8a790f"
          }
        },
        "869e80b82bb947b4886a8079b872494a": {
          "model_module": "@jupyter-widgets/controls",
          "model_name": "HTMLModel",
          "model_module_version": "1.5.0",
          "state": {
            "_dom_classes": [],
            "_model_module": "@jupyter-widgets/controls",
            "_model_module_version": "1.5.0",
            "_model_name": "HTMLModel",
            "_view_count": null,
            "_view_module": "@jupyter-widgets/controls",
            "_view_module_version": "1.5.0",
            "_view_name": "HTMLView",
            "description": "",
            "description_tooltip": null,
            "layout": "IPY_MODEL_8e7d0bbe3f764e179fd9c67308e651e8",
            "placeholder": "​",
            "style": "IPY_MODEL_211de2f2d74c4256bcb778dd7afe6e62",
            "value": "config.json: 100%"
          }
        },
        "e3f52df85392404ab188c42d0479a3ea": {
          "model_module": "@jupyter-widgets/controls",
          "model_name": "FloatProgressModel",
          "model_module_version": "1.5.0",
          "state": {
            "_dom_classes": [],
            "_model_module": "@jupyter-widgets/controls",
            "_model_module_version": "1.5.0",
            "_model_name": "FloatProgressModel",
            "_view_count": null,
            "_view_module": "@jupyter-widgets/controls",
            "_view_module_version": "1.5.0",
            "_view_name": "ProgressView",
            "bar_style": "success",
            "description": "",
            "description_tooltip": null,
            "layout": "IPY_MODEL_0457ffedde7c44d59827ba8ea21a78e4",
            "max": 440,
            "min": 0,
            "orientation": "horizontal",
            "style": "IPY_MODEL_f862cd510fa74a63849aaa922eb38c9a",
            "value": 440
          }
        },
        "53e26c3bc5aa403b84575070148d9024": {
          "model_module": "@jupyter-widgets/controls",
          "model_name": "HTMLModel",
          "model_module_version": "1.5.0",
          "state": {
            "_dom_classes": [],
            "_model_module": "@jupyter-widgets/controls",
            "_model_module_version": "1.5.0",
            "_model_name": "HTMLModel",
            "_view_count": null,
            "_view_module": "@jupyter-widgets/controls",
            "_view_module_version": "1.5.0",
            "_view_name": "HTMLView",
            "description": "",
            "description_tooltip": null,
            "layout": "IPY_MODEL_159a330774534002a61ad3e7f9db1659",
            "placeholder": "​",
            "style": "IPY_MODEL_11c370be95d84765b8bcd9d1f115c873",
            "value": " 440/440 [00:00&lt;00:00, 22.9kB/s]"
          }
        },
        "d230c74f0e034c4dafe3cd57cd8a790f": {
          "model_module": "@jupyter-widgets/base",
          "model_name": "LayoutModel",
          "model_module_version": "1.2.0",
          "state": {
            "_model_module": "@jupyter-widgets/base",
            "_model_module_version": "1.2.0",
            "_model_name": "LayoutModel",
            "_view_count": null,
            "_view_module": "@jupyter-widgets/base",
            "_view_module_version": "1.2.0",
            "_view_name": "LayoutView",
            "align_content": null,
            "align_items": null,
            "align_self": null,
            "border": null,
            "bottom": null,
            "display": null,
            "flex": null,
            "flex_flow": null,
            "grid_area": null,
            "grid_auto_columns": null,
            "grid_auto_flow": null,
            "grid_auto_rows": null,
            "grid_column": null,
            "grid_gap": null,
            "grid_row": null,
            "grid_template_areas": null,
            "grid_template_columns": null,
            "grid_template_rows": null,
            "height": null,
            "justify_content": null,
            "justify_items": null,
            "left": null,
            "margin": null,
            "max_height": null,
            "max_width": null,
            "min_height": null,
            "min_width": null,
            "object_fit": null,
            "object_position": null,
            "order": null,
            "overflow": null,
            "overflow_x": null,
            "overflow_y": null,
            "padding": null,
            "right": null,
            "top": null,
            "visibility": null,
            "width": null
          }
        },
        "8e7d0bbe3f764e179fd9c67308e651e8": {
          "model_module": "@jupyter-widgets/base",
          "model_name": "LayoutModel",
          "model_module_version": "1.2.0",
          "state": {
            "_model_module": "@jupyter-widgets/base",
            "_model_module_version": "1.2.0",
            "_model_name": "LayoutModel",
            "_view_count": null,
            "_view_module": "@jupyter-widgets/base",
            "_view_module_version": "1.2.0",
            "_view_name": "LayoutView",
            "align_content": null,
            "align_items": null,
            "align_self": null,
            "border": null,
            "bottom": null,
            "display": null,
            "flex": null,
            "flex_flow": null,
            "grid_area": null,
            "grid_auto_columns": null,
            "grid_auto_flow": null,
            "grid_auto_rows": null,
            "grid_column": null,
            "grid_gap": null,
            "grid_row": null,
            "grid_template_areas": null,
            "grid_template_columns": null,
            "grid_template_rows": null,
            "height": null,
            "justify_content": null,
            "justify_items": null,
            "left": null,
            "margin": null,
            "max_height": null,
            "max_width": null,
            "min_height": null,
            "min_width": null,
            "object_fit": null,
            "object_position": null,
            "order": null,
            "overflow": null,
            "overflow_x": null,
            "overflow_y": null,
            "padding": null,
            "right": null,
            "top": null,
            "visibility": null,
            "width": null
          }
        },
        "211de2f2d74c4256bcb778dd7afe6e62": {
          "model_module": "@jupyter-widgets/controls",
          "model_name": "DescriptionStyleModel",
          "model_module_version": "1.5.0",
          "state": {
            "_model_module": "@jupyter-widgets/controls",
            "_model_module_version": "1.5.0",
            "_model_name": "DescriptionStyleModel",
            "_view_count": null,
            "_view_module": "@jupyter-widgets/base",
            "_view_module_version": "1.2.0",
            "_view_name": "StyleView",
            "description_width": ""
          }
        },
        "0457ffedde7c44d59827ba8ea21a78e4": {
          "model_module": "@jupyter-widgets/base",
          "model_name": "LayoutModel",
          "model_module_version": "1.2.0",
          "state": {
            "_model_module": "@jupyter-widgets/base",
            "_model_module_version": "1.2.0",
            "_model_name": "LayoutModel",
            "_view_count": null,
            "_view_module": "@jupyter-widgets/base",
            "_view_module_version": "1.2.0",
            "_view_name": "LayoutView",
            "align_content": null,
            "align_items": null,
            "align_self": null,
            "border": null,
            "bottom": null,
            "display": null,
            "flex": null,
            "flex_flow": null,
            "grid_area": null,
            "grid_auto_columns": null,
            "grid_auto_flow": null,
            "grid_auto_rows": null,
            "grid_column": null,
            "grid_gap": null,
            "grid_row": null,
            "grid_template_areas": null,
            "grid_template_columns": null,
            "grid_template_rows": null,
            "height": null,
            "justify_content": null,
            "justify_items": null,
            "left": null,
            "margin": null,
            "max_height": null,
            "max_width": null,
            "min_height": null,
            "min_width": null,
            "object_fit": null,
            "object_position": null,
            "order": null,
            "overflow": null,
            "overflow_x": null,
            "overflow_y": null,
            "padding": null,
            "right": null,
            "top": null,
            "visibility": null,
            "width": null
          }
        },
        "f862cd510fa74a63849aaa922eb38c9a": {
          "model_module": "@jupyter-widgets/controls",
          "model_name": "ProgressStyleModel",
          "model_module_version": "1.5.0",
          "state": {
            "_model_module": "@jupyter-widgets/controls",
            "_model_module_version": "1.5.0",
            "_model_name": "ProgressStyleModel",
            "_view_count": null,
            "_view_module": "@jupyter-widgets/base",
            "_view_module_version": "1.2.0",
            "_view_name": "StyleView",
            "bar_color": null,
            "description_width": ""
          }
        },
        "159a330774534002a61ad3e7f9db1659": {
          "model_module": "@jupyter-widgets/base",
          "model_name": "LayoutModel",
          "model_module_version": "1.2.0",
          "state": {
            "_model_module": "@jupyter-widgets/base",
            "_model_module_version": "1.2.0",
            "_model_name": "LayoutModel",
            "_view_count": null,
            "_view_module": "@jupyter-widgets/base",
            "_view_module_version": "1.2.0",
            "_view_name": "LayoutView",
            "align_content": null,
            "align_items": null,
            "align_self": null,
            "border": null,
            "bottom": null,
            "display": null,
            "flex": null,
            "flex_flow": null,
            "grid_area": null,
            "grid_auto_columns": null,
            "grid_auto_flow": null,
            "grid_auto_rows": null,
            "grid_column": null,
            "grid_gap": null,
            "grid_row": null,
            "grid_template_areas": null,
            "grid_template_columns": null,
            "grid_template_rows": null,
            "height": null,
            "justify_content": null,
            "justify_items": null,
            "left": null,
            "margin": null,
            "max_height": null,
            "max_width": null,
            "min_height": null,
            "min_width": null,
            "object_fit": null,
            "object_position": null,
            "order": null,
            "overflow": null,
            "overflow_x": null,
            "overflow_y": null,
            "padding": null,
            "right": null,
            "top": null,
            "visibility": null,
            "width": null
          }
        },
        "11c370be95d84765b8bcd9d1f115c873": {
          "model_module": "@jupyter-widgets/controls",
          "model_name": "DescriptionStyleModel",
          "model_module_version": "1.5.0",
          "state": {
            "_model_module": "@jupyter-widgets/controls",
            "_model_module_version": "1.5.0",
            "_model_name": "DescriptionStyleModel",
            "_view_count": null,
            "_view_module": "@jupyter-widgets/base",
            "_view_module_version": "1.2.0",
            "_view_name": "StyleView",
            "description_width": ""
          }
        }
      }
    }
  },
  "cells": [
    {
      "cell_type": "markdown",
      "metadata": {
        "id": "view-in-github",
        "colab_type": "text"
      },
      "source": [
        "<a href=\"https://colab.research.google.com/github/mohamad-tohidi/NLP/blob/main/OCR%2BNLP.ipynb\" target=\"_parent\"><img src=\"https://colab.research.google.com/assets/colab-badge.svg\" alt=\"Open In Colab\"/></a>"
      ]
    },
    {
      "cell_type": "markdown",
      "source": [
        "##Installing the necessery parts"
      ],
      "metadata": {
        "id": "4jAn9meFR8p2"
      }
    },
    {
      "cell_type": "code",
      "execution_count": null,
      "metadata": {
        "id": "EyQctAAcRqvE"
      },
      "outputs": [],
      "source": [
        "!pip install -q tesseract pytesseract\n",
        "!sudo apt install tesseract-ocr"
      ]
    },
    {
      "cell_type": "code",
      "source": [
        "!pip install clean-text numpy hazm emoji"
      ],
      "metadata": {
        "id": "smpcPXVSSI8m"
      },
      "execution_count": null,
      "outputs": []
    },
    {
      "cell_type": "code",
      "source": [
        "!pip install -qU sentence-transformers"
      ],
      "metadata": {
        "id": "CRbw9_gDShDP"
      },
      "execution_count": null,
      "outputs": []
    },
    {
      "cell_type": "code",
      "source": [
        "\"\"\"keep in mind after installing you have to restart your session\n",
        "بعد از نصب پکیج های جدید سشن کولب رو ریستارت کنید\"\"\""
      ],
      "metadata": {
        "id": "w-gaZNxgLo-n"
      },
      "execution_count": null,
      "outputs": []
    },
    {
      "cell_type": "code",
      "source": [
        "!wget -q https://raw.githubusercontent.com/UKPLab/sentence-transformers/master/examples/applications/text-summarization/LexRank.py"
      ],
      "metadata": {
        "id": "iEY5kB7UZyw_"
      },
      "execution_count": 1,
      "outputs": []
    },
    {
      "cell_type": "markdown",
      "source": [
        "Copying OCR model to PATH"
      ],
      "metadata": {
        "id": "SSof3dpBSl57"
      }
    },
    {
      "cell_type": "code",
      "source": [
        "#/usr/share/tesseract-ocr/4.00/tessdata/\n",
        "\n",
        "import shutil\n",
        "\n",
        "shutil.copyfile(\"/content/drive/MyDrive/BestOcrEver/fas.traineddata\",\"/usr/share/tesseract-ocr/4.00/tessdata/fas.traineddata\")"
      ],
      "metadata": {
        "colab": {
          "base_uri": "https://localhost:8080/",
          "height": 36
        },
        "id": "vnNYPx4FSjRb",
        "outputId": "b68d8d0c-7384-4eb7-9c7f-e8d0fb94c6e0"
      },
      "execution_count": 2,
      "outputs": [
        {
          "output_type": "execute_result",
          "data": {
            "text/plain": [
              "'/usr/share/tesseract-ocr/4.00/tessdata/fas.traineddata'"
            ],
            "application/vnd.google.colaboratory.intrinsic+json": {
              "type": "string"
            }
          },
          "metadata": {},
          "execution_count": 2
        }
      ]
    },
    {
      "cell_type": "markdown",
      "source": [
        "##Importing Libraries"
      ],
      "metadata": {
        "id": "XYI2tq87ShlC"
      }
    },
    {
      "cell_type": "code",
      "source": [
        "%cd /content/drive/MyDrive/BestOcrEver/Nevise"
      ],
      "metadata": {
        "colab": {
          "base_uri": "https://localhost:8080/"
        },
        "id": "z1oiBxILYc1X",
        "outputId": "5bf64e99-df89-411b-9e67-c283377ba6d9"
      },
      "execution_count": 3,
      "outputs": [
        {
          "output_type": "stream",
          "name": "stdout",
          "text": [
            "/content/drive/MyDrive/BestOcrEver/Nevise\n"
          ]
        }
      ]
    },
    {
      "cell_type": "markdown",
      "source": [
        "SpellChecker imports"
      ],
      "metadata": {
        "id": "DnBjP9gXS_NZ"
      }
    },
    {
      "cell_type": "code",
      "source": [
        "import os\n",
        "from main import Normalizer\n",
        "from main import load_pre_model\n",
        "from main import spell_check"
      ],
      "metadata": {
        "id": "dTdIbBfwS48x",
        "colab": {
          "base_uri": "https://localhost:8080/",
          "height": 81,
          "referenced_widgets": [
            "49916659d7b34f389ba8bf4f893c01d0",
            "5287fd2c1d1c4acb9f81623b9ba0f626",
            "44a8eaf1154d45feaeb2ac91efe5b10b",
            "c6eaf8a56351417faee00fd0fc1d375d",
            "e7627ff81f65431d8fab0d4a7d05bafa",
            "7d40140479ca4a939c108ddd19a123a3",
            "8dfe2c9063d84d009fb9944b32d492e3",
            "f760213ba85748889f15669bec5803e7",
            "dcbb5fd86e7944d0bab6e812756ca85d",
            "6f5b7106526547aabc6d5f2c4772bb1a",
            "20b0f3f489ae4813ac04b90047d96b75",
            "d9153ba842e744bbbb5cf880e1f0c9e4",
            "869e80b82bb947b4886a8079b872494a",
            "e3f52df85392404ab188c42d0479a3ea",
            "53e26c3bc5aa403b84575070148d9024",
            "d230c74f0e034c4dafe3cd57cd8a790f",
            "8e7d0bbe3f764e179fd9c67308e651e8",
            "211de2f2d74c4256bcb778dd7afe6e62",
            "0457ffedde7c44d59827ba8ea21a78e4",
            "f862cd510fa74a63849aaa922eb38c9a",
            "159a330774534002a61ad3e7f9db1659",
            "11c370be95d84765b8bcd9d1f115c873"
          ]
        },
        "outputId": "53563f11-46fc-4b9d-b305-ecc2cd37b505"
      },
      "execution_count": 4,
      "outputs": [
        {
          "output_type": "display_data",
          "data": {
            "text/plain": [
              "vocab.txt:   0%|          | 0.00/1.20M [00:00<?, ?B/s]"
            ],
            "application/vnd.jupyter.widget-view+json": {
              "version_major": 2,
              "version_minor": 0,
              "model_id": "49916659d7b34f389ba8bf4f893c01d0"
            }
          },
          "metadata": {}
        },
        {
          "output_type": "display_data",
          "data": {
            "text/plain": [
              "config.json:   0%|          | 0.00/440 [00:00<?, ?B/s]"
            ],
            "application/vnd.jupyter.widget-view+json": {
              "version_major": 2,
              "version_minor": 0,
              "model_id": "d9153ba842e744bbbb5cf880e1f0c9e4"
            }
          },
          "metadata": {}
        }
      ]
    },
    {
      "cell_type": "markdown",
      "source": [
        "tesseracts"
      ],
      "metadata": {
        "id": "Am-xtPuFTB8I"
      }
    },
    {
      "cell_type": "code",
      "source": [
        "import cv2\n",
        "import pytesseract\n",
        "from PIL import Image"
      ],
      "metadata": {
        "id": "YXTqcXtCTHDG"
      },
      "execution_count": 5,
      "outputs": []
    },
    {
      "cell_type": "markdown",
      "source": [
        "Summery"
      ],
      "metadata": {
        "id": "mDeE0KxRTIwi"
      }
    },
    {
      "cell_type": "code",
      "source": [
        "import numpy as np\n",
        "import pandas as pd\n",
        "\n",
        "import hazm\n",
        "import requests\n",
        "import time\n",
        "\n",
        "import torch\n",
        "from sentence_transformers import models, SentenceTransformer, util\n",
        "from LexRank import degree_centrality_scores"
      ],
      "metadata": {
        "id": "E31hYMV-TKaK"
      },
      "execution_count": 6,
      "outputs": []
    },
    {
      "cell_type": "markdown",
      "source": [
        "Semmantic search"
      ],
      "metadata": {
        "id": "TNtUBaOCwuNQ"
      }
    },
    {
      "cell_type": "code",
      "source": [
        "from sentence_transformers import models, SentenceTransformer, util\n",
        "\n",
        "from io import open\n"
      ],
      "metadata": {
        "id": "7hkq88v7wxeX"
      },
      "execution_count": 7,
      "outputs": []
    },
    {
      "cell_type": "markdown",
      "source": [
        "##Defining SpellChecker model"
      ],
      "metadata": {
        "id": "m4LBQ5X1TbIj"
      }
    },
    {
      "cell_type": "markdown",
      "source": [
        "SpellCheker"
      ],
      "metadata": {
        "id": "nrosdnZITk6M"
      }
    },
    {
      "cell_type": "code",
      "source": [
        "normalizer = Normalizer()\n",
        "vocab_path = os.path.join('model', 'vocab.pkl')\n",
        "model_checkpoint_path = os.path.join('model', 'model.pth.tar')\n",
        "model, vocab, device = load_pre_model(vocab_path=vocab_path, model_checkpoint_path=model_checkpoint_path)\n",
        "    #test"
      ],
      "metadata": {
        "id": "CzcrWNxBTdAa"
      },
      "execution_count": null,
      "outputs": []
    },
    {
      "cell_type": "markdown",
      "source": [
        "##Functions"
      ],
      "metadata": {
        "id": "Z4HMqI8cTQun"
      }
    },
    {
      "cell_type": "markdown",
      "source": [
        "OCR"
      ],
      "metadata": {
        "id": "Q3eIdxYiT6F1"
      }
    },
    {
      "cell_type": "code",
      "source": [
        "def perform_ocr_on_image(image_path):\n",
        "    # Load the image using OpenCV\n",
        "    image = cv2.imread(image_path)\n",
        "\n",
        "    # Perform OCR using PyTesseract\n",
        "    ocr_text = pytesseract.image_to_string(image, lang = 'fas')\n",
        "\n",
        "    # # Save the OCR results to a text file\n",
        "    # with open(\"ocr_results.txt\", \"w\") as ocr_file:\n",
        "    #     ocr_file.write(ocr_text)\n",
        "    return ocr_text\n",
        "\n"
      ],
      "metadata": {
        "id": "-VHg_wxzTS4m"
      },
      "execution_count": 9,
      "outputs": []
    },
    {
      "cell_type": "markdown",
      "source": [
        "SpellCheck"
      ],
      "metadata": {
        "id": "b-O2QqMCT7eV"
      }
    },
    {
      "cell_type": "code",
      "source": [
        "\n",
        "def ocr_and_spell_check(image_path):\n",
        "    # Perform OCR on the image\n",
        "    extracted_text = pytesseract.image_to_string(Image.open(image_path), lang = 'fas')\n",
        "\n",
        "    # Remove unwanted characters\n",
        "    cleaned_text = extracted_text.replace('\\n', ' ').replace('\\u200c', '').replace('\\x0c', '')\n",
        "\n",
        "    # Spell check the text\n",
        "    corrected_text = spell_check(model, vocab, device, normalizer, cleaned_text)\n",
        "\n",
        "    # Save the original and corrected texts to files\n",
        "    original_file_path = \"OCR_text.txt\"\n",
        "    corrected_file_path = \"corrected_OCR_text.txt\"\n",
        "\n",
        "    with open(original_file_path, \"w\", encoding=\"utf-8\") as original_file:\n",
        "        original_file.write(extracted_text)\n",
        "\n",
        "    with open(corrected_file_path, \"w\", encoding=\"utf-8\") as corrected_file:\n",
        "        corrected_file.write(corrected_text)\n",
        "\n",
        "    print(f\"Original text saved to {original_file_path}\")\n",
        "    print(f\"Corrected text saved to {corrected_file_path}\")"
      ],
      "metadata": {
        "id": "Ps7-4wmQT9Yr"
      },
      "execution_count": 10,
      "outputs": []
    },
    {
      "cell_type": "markdown",
      "source": [
        "Summery"
      ],
      "metadata": {
        "id": "5WIzeljLUF0k"
      }
    },
    {
      "cell_type": "code",
      "source": [
        "def load_st_model(model_name_or_path):\n",
        "    word_embedding_model = models.Transformer(model_name_or_path)\n",
        "    pooling_model = models.Pooling(\n",
        "        word_embedding_model.get_word_embedding_dimension(),\n",
        "        pooling_mode_mean_tokens=True,\n",
        "        pooling_mode_cls_token=False,\n",
        "        pooling_mode_max_tokens=False)\n",
        "\n",
        "    model = SentenceTransformer(modules=[word_embedding_model, pooling_model])\n",
        "    return model"
      ],
      "metadata": {
        "id": "xwjXVXJuUGz1"
      },
      "execution_count": 11,
      "outputs": []
    },
    {
      "cell_type": "code",
      "source": [
        "def summarize_text(input_filename, output_filename, model_name='m3hrdadfi/bert-fa-base-uncased-wikinli-mean-tokens'):\n",
        "    # Load the Sentence-Transformer model\n",
        "    embedder = SentenceTransformer(model_name)\n",
        "\n",
        "    # Read content from the input file\n",
        "    with open(input_filename, 'r', encoding='utf-8') as file:\n",
        "        content = file.read()\n",
        "\n",
        "    # Split the document into sentences\n",
        "    sentences = hazm.sent_tokenize(content)\n",
        "\n",
        "    # Compute the sentence embeddings\n",
        "    embeddings = embedder.encode(sentences, convert_to_tensor=True, show_progress_bar=True)\n",
        "\n",
        "    # Compute the pair-wise cosine similarities\n",
        "    cos_scores = util.pytorch_cos_sim(embeddings, embeddings).numpy()\n",
        "\n",
        "    # Compute centrality scores for each sentence\n",
        "    centrality_scores = degree_centrality_scores(cos_scores, threshold=None)\n",
        "\n",
        "    # Sort sentences by centrality scores\n",
        "    most_central_sentence_indices = np.argsort(-centrality_scores)\n",
        "\n",
        "    # Extract the top 4 sentences as the summary\n",
        "    summary_sentences = [sentences[idx].strip() for idx in most_central_sentence_indices[:4]]\n",
        "\n",
        "    # Save the summarized content to a new file\n",
        "    with open(output_filename, 'w', encoding='utf-8') as output_file:\n",
        "        output_file.write('\\n'.join(summary_sentences))\n"
      ],
      "metadata": {
        "id": "IwtUYiHqXA5Q"
      },
      "execution_count": 12,
      "outputs": []
    },
    {
      "cell_type": "markdown",
      "source": [
        "Sentiment search"
      ],
      "metadata": {
        "id": "9alaWF1_xLDc"
      }
    },
    {
      "cell_type": "code",
      "source": [
        "# Function to read a text file and turn each sentence into a corpus list\n",
        "def load_corpus(file_path):\n",
        "    \"\"\"\n",
        "    Reads a text file and returns a list of sentences and a list of sentences encoded using the Sentence-Transformer model.\n",
        "\n",
        "    Args:\n",
        "      file_path: The path to the text file.\n",
        "\n",
        "    Returns:\n",
        "      corpus: A list of sentences.\n",
        "      corpus_embeddings: A list of sentence embeddings.\n",
        "    \"\"\"\n",
        "    corpus = []\n",
        "    with open(file_path, encoding=\"utf-8\") as f:\n",
        "        for line in f:\n",
        "            line = line.strip()\n",
        "            corpus.append(line)\n",
        "\n",
        "    # Load the Sentence-Transformer model\n",
        "    embedder = SentenceTransformer('m3hrdadfi/bert-fa-base-uncased-wikinli-mean-tokens')\n",
        "\n",
        "    # Encode the corpus sentences\n",
        "    corpus_embeddings = embedder.encode(corpus, convert_to_tensor=True, show_progress_bar=True)\n",
        "\n",
        "    return corpus, corpus_embeddings\n"
      ],
      "metadata": {
        "id": "paeTFKlAxM_t"
      },
      "execution_count": 13,
      "outputs": []
    },
    {
      "cell_type": "code",
      "source": [
        "# Function to perform semantic search on a corpus\n",
        "def semantic_search(corpus, corpus_embeddings):\n",
        "    \"\"\"\n",
        "    Performs semantic search on a corpus of sentences.\n",
        "\n",
        "    Args:\n",
        "      corpus: A list of sentences.\n",
        "      corpus_embeddings: A list of sentence embeddings.\n",
        "\n",
        "    Returns:\n",
        "      None\n",
        "    \"\"\"\n",
        "    # Get user input for the query\n",
        "    query = input(\"Enter your query: \")\n",
        "\n",
        "    embedder = SentenceTransformer('m3hrdadfi/bert-fa-base-uncased-wikinli-mean-tokens')\n",
        "\n",
        "    # Encode the query sentence\n",
        "    query_embedding = embedder.encode(query, convert_to_tensor=True, show_progress_bar=True)\n",
        "\n",
        "    # Calculate the cosine similarity between the query and the corpus sentences\n",
        "    cos_scores = util.pytorch_cos_sim(query_embedding, corpus_embeddings)[0]\n",
        "    cos_scores = cos_scores.cpu()\n",
        "\n",
        "    # Find the top 5 most similar sentences\n",
        "    top_k = 1\n",
        "    top_results = torch.topk(cos_scores, k=top_k)\n",
        "\n",
        "    # Print the results\n",
        "    print(f\"Query: {query}\")\n",
        "    for score, idx in zip(top_results[0], top_results[1]):\n",
        "        print(f\"{corpus[idx]} --- (Score: {score:.4f})\")"
      ],
      "metadata": {
        "id": "fT0WLg-SzCTq"
      },
      "execution_count": 14,
      "outputs": []
    },
    {
      "cell_type": "markdown",
      "source": [
        "##Q&A"
      ],
      "metadata": {
        "id": "oPU-QByYS11b"
      }
    },
    {
      "cell_type": "markdown",
      "source": [
        "dummy test"
      ],
      "metadata": {
        "id": "B-SJdXs5LXt_"
      }
    },
    {
      "cell_type": "code",
      "source": [
        "from transformers import pipeline\n",
        "\n",
        "model_name = \"SajjadAyoubi/bert-base-fa-qa\"\n",
        "qa_pipeline = pipeline(\"question-answering\", model=model_name, tokenizer=model_name)\n",
        "\n",
        "text = \"\"\"وفقیت چاپ اول کتاب اقتصاد خرد میانه باعث خوشحالی من شد. این حقیقت باعث شد که عقیدة من مبنی بر اینکه بازار یک روش تحلیلی را برای اقتصاد خرد در سطح کارشناسی پذیرفته می‌کند. تاکید شود. هدف من از نوشتن چاپ اول این کتاب ارائة طرز عمل روشهای اقتصاد خرد بود تا به دانشجویان امکان دهد که از این ابزار بهروش خودشان,و نه بهصورت انتخاب موارد از پیش حلشده در متن کتاب,استفاده کنند.\"\"\"\n",
        "questions = [\"از این ابزار به چه شکلی استفاده میکنن؟\", \"اسم کتاب چیه؟\", \"هدف چی بود؟\"]\n",
        "\n",
        "for question in questions:\n",
        "    print(qa_pipeline({\"context\": text, \"question\": question}))"
      ],
      "metadata": {
        "id": "2t3uf0FpS4Kw"
      },
      "execution_count": null,
      "outputs": []
    },
    {
      "cell_type": "markdown",
      "source": [
        "real func"
      ],
      "metadata": {
        "id": "AB9kbeddLaM-"
      }
    },
    {
      "cell_type": "code",
      "source": [
        "from transformers import AutoModelForQuestionAnswering, AutoTokenizer, pipeline\n",
        "import pytesseract\n",
        "from PIL import Image\n",
        "from main import spell_check\n",
        "\n",
        "def ocr_and_spell_check(image_path, corrected_text_path):\n",
        "    # Perform OCR on the image\n",
        "    extracted_text = pytesseract.image_to_string(Image.open(image_path), lang='fas')\n",
        "\n",
        "    # Remove unwanted characters\n",
        "    cleaned_text = extracted_text.replace('\\n', ' ').replace('\\u200c', '').replace('\\x0c', '')\n",
        "\n",
        "    # Spell check the text\n",
        "    corrected_text = spell_check(model, vocab, device, normalizer, cleaned_text)\n",
        "\n",
        "    # Save the corrected text to a file\n",
        "    with open(corrected_text_path, 'w', encoding='utf-8') as corrected_file:\n",
        "        corrected_file.write(corrected_text)\n",
        "\n",
        "    print(f\"Corrected text saved to {corrected_text_path}\")\n",
        "\n",
        "    return corrected_text\n",
        "\n",
        "def answer_questions(model_name_or_path, context):\n",
        "    # Load the question-answering model\n",
        "    nlp_qa = pipeline('question-answering', model=model_name_or_path, tokenizer=model_name_or_path)\n",
        "\n",
        "    # Ask user for questions\n",
        "    questions_to_ask = []\n",
        "    num_questions = int(input(\"Enter the number of questions you want to ask: \"))\n",
        "\n",
        "    for i in range(num_questions):\n",
        "        question = input(f\"Enter question {i+1}: \")\n",
        "        questions_to_ask.append(question)\n",
        "\n",
        "    # Ask and answer questions\n",
        "    answers = []\n",
        "    for question in questions_to_ask:\n",
        "        result = nlp_qa(question=question, context=context)\n",
        "        answer = result[\"answer\"].strip()\n",
        "        answers.append(answer)\n",
        "        print(f\"Q: {question}\\nA: {answer}\\n\")\n",
        "\n",
        "    # Save questions and answers to a TXT file\n",
        "    qa_output_path = 'qa_output.txt'\n",
        "    with open(qa_output_path, 'w', encoding='utf-8') as qa_file:\n",
        "        for question, answer in zip(questions_to_ask, answers):\n",
        "            qa_file.write(f\"Q: {question}\\nA: {answer}\\n\\n\")\n",
        "\n",
        "    print(f\"Questions and answers saved to {qa_output_path}\")\n",
        "\n",
        "# Example usage:\n",
        "# image_path = '/content/ph.jpg'\n",
        "# corrected_text_path = 'corrected_text.txt'\n",
        "\n",
        "# # OCR and Spell Check\n",
        "# corrected_text = ocr_and_spell_check(image_path, corrected_text_path)\n",
        "\n",
        "# # Question Answering\n",
        "# answer_questions(\"m3hrdadfi/xlmr-large-qa-fa\", corrected_text)"
      ],
      "metadata": {
        "id": "5nmGVo28S61O"
      },
      "execution_count": null,
      "outputs": []
    },
    {
      "cell_type": "markdown",
      "source": [
        "##PipeLine"
      ],
      "metadata": {
        "id": "Cxltu9ovUNOS"
      }
    },
    {
      "cell_type": "code",
      "source": [
        "\"\"\" First we use ocr_and_spell_check to perform ocr and SpellChek it\n",
        "it will save two txt files in path\n",
        "then we use Summerize function to save a summerized version of the Corrected txt file\"\"\"\n",
        "\n",
        "image_path = \"/content/drive/MyDrive/BestOcrEver/test.jpg\"\n",
        "ocr_and_spell_check(image_path)"
      ],
      "metadata": {
        "id": "i4YKrBijUUiZ"
      },
      "execution_count": null,
      "outputs": []
    },
    {
      "cell_type": "code",
      "source": [
        "input_file = \"corrected_OCR_text.txt\"\n",
        "output_file = \"Summerized.txt\"\n",
        "summarize_text(input_file, output_file)"
      ],
      "metadata": {
        "id": "nooO6SctaH-m"
      },
      "execution_count": null,
      "outputs": []
    },
    {
      "cell_type": "code",
      "source": [
        "correcte_text = \"path to correctede text\"\n",
        "answer_questions(\"m3hrdadfi/xlmr-large-qa-fa\", corrected_text)\n"
      ],
      "metadata": {
        "id": "KHdV8g29deyF"
      },
      "execution_count": null,
      "outputs": []
    },
    {
      "cell_type": "markdown",
      "source": [
        "Semantic search"
      ],
      "metadata": {
        "id": "5pEP_8yzLRSW"
      }
    },
    {
      "cell_type": "code",
      "source": [
        "file_path = \"/content/drive/MyDrive/BestOcrEver/Nevise/corrected_OCR_text.txt\"\n",
        "corpus, corpus_embeddings = load_corpus(file_path)\n",
        "\n",
        "# Perform semantic search\n",
        "semantic_search(corpus, corpus_embeddings)"
      ],
      "metadata": {
        "id": "hW4rkQzPzDyO"
      },
      "execution_count": null,
      "outputs": []
    }
  ]
}